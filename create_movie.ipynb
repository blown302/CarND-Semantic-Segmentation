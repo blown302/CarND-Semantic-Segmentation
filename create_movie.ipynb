{
 "cells": [
  {
   "cell_type": "markdown",
   "metadata": {},
   "source": [
    "# Create Movie From Runs"
   ]
  },
  {
   "cell_type": "markdown",
   "metadata": {},
   "source": [
    "## Scan images, index and sort"
   ]
  },
  {
   "cell_type": "code",
   "execution_count": 5,
   "metadata": {},
   "outputs": [],
   "source": [
    "from glob import glob\n",
    "from os.path import join, basename, splitext\n",
    "\n",
    "dir_name = 'runs/1542737622.2073863'\n",
    "\n",
    "def get_id(path):\n",
    "    \"\"\"\n",
    "    Gets an integer from the filename as the Id.\n",
    "    \"\"\"\n",
    "    return int(splitext(basename(path).split('_')[1])[0])\n",
    "\n",
    "file_paths = glob(join(dir_name, '*.png'))\n",
    "\n",
    "indexed_paths = {get_id(p):p for p in file_paths}\n",
    "\n",
    "sorted_ids = sorted(indexed_paths.keys())\n",
    "\n",
    "sorted_paths = [indexed_paths[id] for id in sorted_ids]"
   ]
  },
  {
   "cell_type": "markdown",
   "metadata": {},
   "source": [
    "## Create Movie with moviepy"
   ]
  },
  {
   "cell_type": "code",
   "execution_count": 6,
   "metadata": {},
   "outputs": [
    {
     "name": "stdout",
     "output_type": "stream",
     "text": [
      "[MoviePy] >>>> Building video runs/1542737622.2073863/movie.mp4\n",
      "[MoviePy] Writing video runs/1542737622.2073863/movie.mp4\n"
     ]
    },
    {
     "name": "stderr",
     "output_type": "stream",
     "text": [
      " 99%|█████████▉| 100/101 [00:01<00:00, 91.28it/s]\n"
     ]
    },
    {
     "name": "stdout",
     "output_type": "stream",
     "text": [
      "[MoviePy] Done.\n",
      "[MoviePy] >>>> Video ready: runs/1542737622.2073863/movie.mp4 \n",
      "\n"
     ]
    }
   ],
   "source": [
    "import moviepy.editor as mpy\n",
    "import matplotlib.pyplot as plt\n",
    "\n",
    "i = 0\n",
    "\n",
    "def make_frame(t):\n",
    "    print(t)\n",
    "    path = indexed_paths.get(int(t))\n",
    "    if not path:\n",
    "        return None\n",
    "    return plt.imread(path)\n",
    "    \n",
    "n_frames = len(file_paths)\n",
    "fps = 2\n",
    "\n",
    "clip = mpy.ImageSequenceClip(sorted_paths, fps=fps)\n",
    "clip.write_videofile(join(dir_name, 'movie.mp4'),fps=fps)"
   ]
  },
  {
   "cell_type": "code",
   "execution_count": null,
   "metadata": {},
   "outputs": [],
   "source": []
  }
 ],
 "metadata": {
  "kernelspec": {
   "display_name": "Python 3",
   "language": "python",
   "name": "python3"
  },
  "language_info": {
   "codemirror_mode": {
    "name": "ipython",
    "version": 3
   },
   "file_extension": ".py",
   "mimetype": "text/x-python",
   "name": "python",
   "nbconvert_exporter": "python",
   "pygments_lexer": "ipython3",
   "version": "3.6.7"
  }
 },
 "nbformat": 4,
 "nbformat_minor": 2
}
